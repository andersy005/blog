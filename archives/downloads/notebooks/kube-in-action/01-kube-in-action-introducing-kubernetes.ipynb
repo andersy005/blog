{
 "cells": [
  {
   "cell_type": "markdown",
   "metadata": {
    "toc": true
   },
   "source": [
    "<h1>Table of Contents<span class=\"tocSkip\"></span></h1>\n",
    "<div class=\"toc\"><ul class=\"toc-item\"><li><span><a href=\"#Introducing-Kubernetes\" data-toc-modified-id=\"Introducing-Kubernetes-1\">Introducing Kubernetes</a></span><ul class=\"toc-item\"><li><span><a href=\"#Why-do-we-need-a-system-like-Kubernetes?\" data-toc-modified-id=\"Why-do-we-need-a-system-like-Kubernetes?-1.1\">Why do we need a system like Kubernetes?</a></span><ul class=\"toc-item\"><li><span><a href=\"#Moving-from-monolithic-apps-to-microservices\" data-toc-modified-id=\"Moving-from-monolithic-apps-to-microservices-1.1.1\">Moving from monolithic apps to microservices</a></span></li></ul></li></ul></li><li><span><a href=\"#References\" data-toc-modified-id=\"References-2\">References</a></span></li></ul></div>"
   ]
  },
  {
   "cell_type": "markdown",
   "metadata": {},
   "source": [
    "<!-- PELICAN_BEGIN_SUMMARY -->\n",
    "\n",
    "I've recently picked up an interest in [containerization](https://en.wikipedia.org/wiki/Operating-system-level_virtualization). I started reading up on and playing with [kubernetes](https://kubernetes.io/). \n",
    "\n",
    "I have been taking notes as I go through [Kubernetes in Action by Marko Lukša ](https://www.manning.com/books/kubernetes-in-action) and I wanted to share these with those who might have similar interests in containerization and distributed systems in general. *This is the 1st installment of a series called* **Kube in Action**. Every week or so, I’ll be summarizing and exploring **kubernetes fundamentals + concepts with hands-on examples** as I learn more about Kubernetes. \n",
    "<br>\n",
    "<br>\n",
    "<img src=\"https://d33wubrfki0l68.cloudfront.net/55f2f273b05a44c1d87908e4b749ffcd530a8495/ddfb6/images/blog-logging/2018-04-10-container-storage-interface-beta/csi-kubernetes.png\" width=\"200\" align=\"center\">\n",
    "\n",
    "<!-- PELICAN_END_SUMMARY -->"
   ]
  },
  {
   "cell_type": "markdown",
   "metadata": {},
   "source": [
    "# Introducing Kubernetes"
   ]
  },
  {
   "cell_type": "markdown",
   "metadata": {},
   "source": [
    "- Kubernetes abstracts away the hardware infrastructure and exposes your whole datacenter as a single enormous computational resource. \n",
    "- It allows you to deploy and run your software components without having to know about the actual servers underneath. \n",
    "- When deploying a multi-component application through Kubernetes, it selects a server for each component, deploys it, and enables it to easily find and communicate with all the other components of your application. \n",
    "\n",
    "This makes Kubernetes great for most on-premises datacenters, but where it starts to shine is when it’s used in the largest datacenters, such as the ones built and operated by cloud providers. "
   ]
  },
  {
   "cell_type": "markdown",
   "metadata": {},
   "source": [
    "## Why do we need a system like Kubernetes?"
   ]
  },
  {
   "cell_type": "markdown",
   "metadata": {},
   "source": [
    "Kubernetes is both a consequence of\n",
    "- Splitting big monolithic apps into smaller microservices and \n",
    "- of the changes in the infrastruction that runs those apps."
   ]
  },
  {
   "cell_type": "markdown",
   "metadata": {},
   "source": [
    "### Moving from monolithic apps to microservices"
   ]
  },
  {
   "cell_type": "markdown",
   "metadata": {},
   "source": [
    "![](https://i.imgur.com/HloPyme.png)"
   ]
  },
  {
   "cell_type": "markdown",
   "metadata": {},
   "source": [
    "Microservices communicate through synchronous protocols such as HTTP, over which they usually expose RESTful (REpresentational State Transfer) APIs, or through asynchronous protocols such as AMQP (Advanced Message Queueing Protocol). These protocols are simple, well understood by most developers, and not tied to any specific programming language. Each microservice can be written in the language that’s most appropriate for implementing that specific microservice. "
   ]
  },
  {
   "cell_type": "markdown",
   "metadata": {},
   "source": [
    "![](https://i.imgur.com/mlGio3P.png)"
   ]
  },
  {
   "cell_type": "markdown",
   "metadata": {},
   "source": [
    "Components in a microservices architecture aren’t only deployed independently, but are also developed that way. Because of their independence and the fact that it’s common to have separate teams developing each component, nothing impedes each team from using different libraries and replacing them whenever the need arises. "
   ]
  },
  {
   "cell_type": "markdown",
   "metadata": {},
   "source": [
    "![](https://i.imgur.com/GvKwA1K.png)"
   ]
  },
  {
   "cell_type": "markdown",
   "metadata": {},
   "source": [
    "# References\n",
    "\n",
    "- [ Kubernetes in Action, Marko Lukša ](https://www.manning.com/books/kubernetes-in-action)"
   ]
  }
 ],
 "metadata": {
  "kernelspec": {
   "display_name": "Python 3",
   "language": "python",
   "name": "python3"
  },
  "language_info": {
   "codemirror_mode": {
    "name": "ipython",
    "version": 3
   },
   "file_extension": ".py",
   "mimetype": "text/x-python",
   "name": "python",
   "nbconvert_exporter": "python",
   "pygments_lexer": "ipython3",
   "version": "3.6.7"
  },
  "toc": {
   "nav_menu": {},
   "number_sections": false,
   "sideBar": true,
   "skip_h1_title": false,
   "title_cell": "Table of Contents",
   "title_sidebar": "Contents",
   "toc_cell": true,
   "toc_position": {},
   "toc_section_display": "block",
   "toc_window_display": true
  }
 },
 "nbformat": 4,
 "nbformat_minor": 2
}
