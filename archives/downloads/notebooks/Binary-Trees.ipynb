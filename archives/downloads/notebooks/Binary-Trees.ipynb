{
 "cells": [
  {
   "cell_type": "markdown",
   "metadata": {
    "toc": true
   },
   "source": [
    "<h1>Table of Contents<span class=\"tocSkip\"></span></h1>\n",
    "<div class=\"toc\"><ul class=\"toc-item\"><li><span><a href=\"#Binary-Trees\" data-toc-modified-id=\"Binary-Trees-1\"><span class=\"toc-item-num\">1&nbsp;&nbsp;</span>Binary Trees</a></span><ul class=\"toc-item\"><li><span><a href=\"#Introduction-To-Binary-Trees\" data-toc-modified-id=\"Introduction-To-Binary-Trees-1.1\"><span class=\"toc-item-num\">1.1&nbsp;&nbsp;</span>Introduction To Binary Trees</a></span></li><li><span><a href=\"#Types-of-Binary-Trees\" data-toc-modified-id=\"Types-of-Binary-Trees-1.2\"><span class=\"toc-item-num\">1.2&nbsp;&nbsp;</span>Types of Binary Trees</a></span></li><li><span><a href=\"#Structure-of-Binary-Trees\" data-toc-modified-id=\"Structure-of-Binary-Trees-1.3\"><span class=\"toc-item-num\">1.3&nbsp;&nbsp;</span>Structure of Binary Trees</a></span></li><li><span><a href=\"#Binary-Tree-Traversals\" data-toc-modified-id=\"Binary-Tree-Traversals-1.4\"><span class=\"toc-item-num\">1.4&nbsp;&nbsp;</span>Binary Tree Traversals</a></span><ul class=\"toc-item\"><li><span><a href=\"#PreOrder-Traversal\" data-toc-modified-id=\"PreOrder-Traversal-1.4.1\"><span class=\"toc-item-num\">1.4.1&nbsp;&nbsp;</span>PreOrder Traversal</a></span></li><li><span><a href=\"#InOrder-Traversal\" data-toc-modified-id=\"InOrder-Traversal-1.4.2\"><span class=\"toc-item-num\">1.4.2&nbsp;&nbsp;</span>InOrder Traversal</a></span></li><li><span><a href=\"#PostOrder-Traversal\" data-toc-modified-id=\"PostOrder-Traversal-1.4.3\"><span class=\"toc-item-num\">1.4.3&nbsp;&nbsp;</span>PostOrder Traversal</a></span></li><li><span><a href=\"#Level-Order-Traversal\" data-toc-modified-id=\"Level-Order-Traversal-1.4.4\"><span class=\"toc-item-num\">1.4.4&nbsp;&nbsp;</span>Level Order Traversal</a></span></li></ul></li><li><span><a href=\"#Binary-Tree-Problems\" data-toc-modified-id=\"Binary-Tree-Problems-1.5\"><span class=\"toc-item-num\">1.5&nbsp;&nbsp;</span>Binary Tree Problems</a></span><ul class=\"toc-item\"><li><span><a href=\"#Problem-1:-Give-algorithms-for-finding-maximum-and-minimum-element-in-a-binary-tree\" data-toc-modified-id=\"Problem-1:-Give-algorithms-for-finding-maximum-and-minimum-element-in-a-binary-tree-1.5.1\"><span class=\"toc-item-num\">1.5.1&nbsp;&nbsp;</span>Problem-1: Give algorithms for finding maximum and minimum element in a binary tree</a></span></li><li><span><a href=\"#Problem-2:-Searching-an-element-in-a-binary-Tree\" data-toc-modified-id=\"Problem-2:-Searching-an-element-in-a-binary-Tree-1.5.2\"><span class=\"toc-item-num\">1.5.2&nbsp;&nbsp;</span>Problem-2: Searching an element in a binary Tree</a></span></li><li><span><a href=\"#Problem-3:-finding-the-size-of-a-binary-tree\" data-toc-modified-id=\"Problem-3:-finding-the-size-of-a-binary-tree-1.5.3\"><span class=\"toc-item-num\">1.5.3&nbsp;&nbsp;</span>Problem-3: finding the size of a binary tree</a></span></li><li><span><a href=\"#Problem-4:-Print-the-level-order-data-in-reverse-order\" data-toc-modified-id=\"Problem-4:-Print-the-level-order-data-in-reverse-order-1.5.4\"><span class=\"toc-item-num\">1.5.4&nbsp;&nbsp;</span>Problem-4: Print the level order data in reverse order</a></span></li></ul></li><li><span><a href=\"#References\" data-toc-modified-id=\"References-1.6\"><span class=\"toc-item-num\">1.6&nbsp;&nbsp;</span>References</a></span></li></ul></li></ul></div>"
   ]
  },
  {
   "cell_type": "markdown",
   "metadata": {},
   "source": [
    "# Binary Trees\n"
   ]
  },
  {
   "cell_type": "markdown",
   "metadata": {},
   "source": [
    "This article introduces the basic concepts of binary trees, and then works through a series of practice problems with solution code in Python. Binary trees have an elegant recursive pointer structure, so they are a good way to learn recursive pointer algorithms. "
   ]
  },
  {
   "cell_type": "markdown",
   "metadata": {},
   "source": [
    "## Introduction To Binary Trees\n",
    "\n",
    "<!-- PELICAN_BEGIN_SUMMARY -->\n",
    "A binary tree is made of nodes, where each node contains a <b>left</b> pointer, a <b>right</b> pointer, and a data element. The <b>root</b> pointer points to the topmost node in the tree.\n",
    "\n",
    "<img src=\"https://cdn-images-1.medium.com/max/800/1*UjSfPoMwCEkke1_iuNZ1EQ.jpeg\">\n",
    "\n",
    "<!-- PELICAN_END_SUMMARY -->\n",
    "\n",
    "(source: <a href=\"https://medium.com/basecs/leaf-it-up-to-binary-trees-11001aaf746d\"> Leaf it up to binary trees </a>)\n"
   ]
  },
  {
   "cell_type": "markdown",
   "metadata": {},
   "source": [
    "The left and right pointers recursively point to smaller **subtrees** on either side. A null pointer represents a binary tree with no elements--**the empty tree**.\n",
    "\n",
    "The formal recursive definition is: a tree is called **binary tree** if each node has **zero child**, **one child**, or **two childern**."
   ]
  },
  {
   "cell_type": "markdown",
   "metadata": {},
   "source": [
    "## Types of Binary Trees\n",
    "\n",
    "- **Strict Binary Tree:** each node has **exactly two children or no children**. \n",
    "\n",
    "![](https://i.imgur.com/QIhSuRr.png)"
   ]
  },
  {
   "cell_type": "markdown",
   "metadata": {},
   "source": [
    "- **Full Binary Tree:** each node has **exactly two children** and **all leaf nodes are at the same level**. \n",
    "\n",
    "![](https://i.imgur.com/YDXCpCi.png)"
   ]
  },
  {
   "cell_type": "markdown",
   "metadata": {},
   "source": [
    "- **Complete Binary Tree:** every level, except possibly the last, is completely filled, and all nodes are as far left as possible.\n",
    "\n",
    "![](https://i.imgur.com/OSlGaDp.png)"
   ]
  },
  {
   "cell_type": "markdown",
   "metadata": {},
   "source": [
    "## Structure of Binary Trees\n",
    "\n",
    "Now let us define the structure of a binary tree. One way to represent a node (which contains data) is to have two links which points to left and right children along with data fields. In Python, the binary tree is built with a node type like this ...\n"
   ]
  },
  {
   "cell_type": "code",
   "execution_count": 1,
   "metadata": {},
   "outputs": [],
   "source": [
    "# Binary Tree node class\n",
    "class BinaryTreeNode:\n",
    "    def __init__(self, data, left=None, right=None):\n",
    "        \"\"\"defines a BT node with data, left child, and right child pointers\"\"\"\n",
    "        self.data = data\n",
    "        self.left = left\n",
    "        self.right = right"
   ]
  },
  {
   "cell_type": "markdown",
   "metadata": {},
   "source": [
    "Now let us define the actual binary tree. We will create a new class and initialize it with the root node"
   ]
  },
  {
   "cell_type": "code",
   "execution_count": 2,
   "metadata": {},
   "outputs": [],
   "source": [
    "# Binary Tree class \n",
    "class BinaryTree:\n",
    "    def __init__(self, root=None):\n",
    "        self.root = root"
   ]
  },
  {
   "cell_type": "markdown",
   "metadata": {},
   "source": [
    "In the next paragraph, we will create the following binary tree\n",
    "![](https://i.imgur.com/YDXCpCi.png)"
   ]
  },
  {
   "cell_type": "code",
   "execution_count": 3,
   "metadata": {},
   "outputs": [],
   "source": [
    "# create a binary tree and set 10 as root node\n",
    "BT = BinaryTree(BinaryTreeNode(10))\n",
    "\n",
    "# Add child nodes 9, 7 to root node \n",
    "BT.root.left = BinaryTreeNode(9)\n",
    "BT.root.right = BinaryTreeNode(7)\n",
    "\n",
    "# Add child nodes 8, 6 to node 9\n",
    "BT.root.left.left = BinaryTreeNode(8)\n",
    "BT.root.left.right = BinaryTreeNode(6)\n",
    "\n",
    "# Add child nodes 2, 4 to node 7\n",
    "BT.root.right.left = BinaryTreeNode(2)\n",
    "BT.root.right.right = BinaryTreeNode(4)"
   ]
  },
  {
   "cell_type": "code",
   "execution_count": 4,
   "metadata": {},
   "outputs": [
    {
     "data": {
      "text/plain": [
       "(10, 9, 7)"
      ]
     },
     "execution_count": 4,
     "metadata": {},
     "output_type": "execute_result"
    }
   ],
   "source": [
    "BT.root.data, BT.root.left.data, BT.root.right.data"
   ]
  },
  {
   "cell_type": "markdown",
   "metadata": {},
   "source": [
    "## Binary Tree Traversals\n",
    "\n",
    "The process of visiting all nodes of a tree is called **tree traversal**. Each node is processed only once but it may be visited more than once. \n",
    "\n",
    "There are **three main traversal methods**:\n",
    "\n",
    "- **Preorder (current node (D) -> Left node (L) -> Right node (R))** Traversal\n",
    "- **Inorder (Left node (L) -> current node (D) -> Right node (R))** Traversal\n",
    "- **Postorder (Left node (L) -> Right node (R) -> current node (D))** Traversal\n",
    "\n",
    "\n",
    "There is another traversal method which does not depend on the above orders and it is:\n",
    "\n",
    "- **Level Order** Traversal: This method is inspired from *Breadth First Search*\n",
    "\n",
    "![](https://upload.wikimedia.org/wikipedia/commons/4/46/Animated_BFS.gif) (source: https://en.wikipedia.org/wiki/Breadth-first_search)"
   ]
  },
  {
   "cell_type": "markdown",
   "metadata": {},
   "source": [
    "### PreOrder Traversal\n",
    "\n",
    "- Each node is processed before either of its subtrees.\n",
    "- Even though each node is processed before the subtrees, this method still requires that some information must be maintained while moving down the tree. \n",
    "- Therefore, processing must return to the right subtree after finishing the processing of the left subtree. To move to the right subtree after processing the left subtree, we must maintain the root information. The suitable data structure for such task is **a stack**. \n",
    "\n",
    "\n",
    "\n",
    "Preorder traversal is defined as follows:\n",
    "\n",
    "- Visit the root.\n",
    "- Traverse the left subtree in Preorder\n",
    "- Traverse the right subtree in Preorder\n"
   ]
  },
  {
   "cell_type": "code",
   "execution_count": 5,
   "metadata": {},
   "outputs": [],
   "source": [
    "def preorder_traversal_recursive(root):\n",
    "    \"\"\"Function performs preorder traversal recursively. The nodes are printed \n",
    "    in traversal order.\"\"\"\n",
    "\n",
    "    if root is None:\n",
    "        return\n",
    "\n",
    "    print(root.data, end=' ')\n",
    "    preorder_traversal_recursive(root.left)\n",
    "    preorder_traversal_recursive(root.right)"
   ]
  },
  {
   "cell_type": "code",
   "execution_count": 6,
   "metadata": {},
   "outputs": [
    {
     "name": "stdout",
     "output_type": "stream",
     "text": [
      "10 9 8 6 7 2 4 "
     ]
    }
   ],
   "source": [
    "preorder_traversal_recursive(BT.root)"
   ]
  },
  {
   "cell_type": "markdown",
   "metadata": {},
   "source": [
    "- **Time Complexity: $O(n)$**\n",
    "- **Space Complexity: $O(n)$**"
   ]
  },
  {
   "cell_type": "markdown",
   "metadata": {},
   "source": [
    "For an iterative solution, in order to simulate a stack, we use Python's list data structure. The `push()` method will be simulated by `append()` and the `pop()` method will be simulate by `pop()`. "
   ]
  },
  {
   "cell_type": "code",
   "execution_count": 7,
   "metadata": {},
   "outputs": [],
   "source": [
    "def preorder_traversal_iterative(root):\n",
    "    \"\"\"Function performs preorder traversal iteratively.\"\"\"\n",
    "\n",
    "    if root is None:\n",
    "        return\n",
    "\n",
    "    stack = []\n",
    "    stack.append(root)\n",
    "\n",
    "    while stack:\n",
    "        current = stack.pop()\n",
    "        print(current.data, end=' ')\n",
    "        if current.right is not None:\n",
    "            stack.append(current.right)\n",
    "\n",
    "        if current.left is not None:\n",
    "            stack.append(current.left)"
   ]
  },
  {
   "cell_type": "code",
   "execution_count": 8,
   "metadata": {},
   "outputs": [
    {
     "name": "stdout",
     "output_type": "stream",
     "text": [
      "10 9 8 6 7 2 4 "
     ]
    }
   ],
   "source": [
    "preorder_traversal_iterative(BT.root)"
   ]
  },
  {
   "cell_type": "markdown",
   "metadata": {},
   "source": [
    "- **Time Complexity: $O(n)$**\n",
    "- **Space Complexity: $O(n)$**"
   ]
  },
  {
   "cell_type": "markdown",
   "metadata": {},
   "source": [
    "### InOrder Traversal\n",
    "\n",
    "In InOrder traversal, the root is visited between the subtrees. InOrder traversal is defined as follows:\n",
    "\n",
    "- Traverse the left subtree in Inorder\n",
    "- Visit the root\n",
    "- Traverse the right subtree in InOrder"
   ]
  },
  {
   "cell_type": "code",
   "execution_count": 9,
   "metadata": {},
   "outputs": [],
   "source": [
    "def inorder_traversal_recursive(root):\n",
    "    \"\"\"Function performs inorder traversal recursively. The nodes are printed \n",
    "    in traversal order.\"\"\"\n",
    "\n",
    "    if root is None:\n",
    "        return\n",
    "\n",
    "    inorder_traversal_recursive(root.left)\n",
    "    print(root.data, end=' ')\n",
    "    inorder_traversal_recursive(root.right)"
   ]
  },
  {
   "cell_type": "code",
   "execution_count": 10,
   "metadata": {},
   "outputs": [
    {
     "name": "stdout",
     "output_type": "stream",
     "text": [
      "8 9 6 10 2 7 4 "
     ]
    }
   ],
   "source": [
    "inorder_traversal_recursive(BT.root)"
   ]
  },
  {
   "cell_type": "markdown",
   "metadata": {},
   "source": [
    "- **Time Complexity: $O(n)$**\n",
    "- **Space Complexity: $O(n)$**"
   ]
  },
  {
   "cell_type": "markdown",
   "metadata": {},
   "source": [
    "### PostOrder Traversal\n",
    "\n",
    "In PostOrder traversal, the root is visited after both subtrees. PostOrder traversal is defined as follows:\n",
    "\n",
    "- Traverse the left subtree in Postorder\n",
    "- Traverse the right subtree in PostOrder\n",
    "- Visit the root"
   ]
  },
  {
   "cell_type": "code",
   "execution_count": 11,
   "metadata": {},
   "outputs": [],
   "source": [
    "def postorder_traversal_recursive(root):\n",
    "    \"\"\"Function performs postorder traversal recursively. The nodes are printed \n",
    "    in traversal order.\"\"\"\n",
    "\n",
    "    if root is None:\n",
    "        return\n",
    "\n",
    "    postorder_traversal_recursive(root.left)\n",
    "    postorder_traversal_recursive(root.right)\n",
    "    print(root.data, end=' ')"
   ]
  },
  {
   "cell_type": "code",
   "execution_count": 12,
   "metadata": {},
   "outputs": [
    {
     "name": "stdout",
     "output_type": "stream",
     "text": [
      "8 6 9 2 4 7 10 "
     ]
    }
   ],
   "source": [
    "postorder_traversal_recursive(BT.root)"
   ]
  },
  {
   "cell_type": "markdown",
   "metadata": {},
   "source": [
    "- **Time Complexity: $O(n)$**\n",
    "- **Space Complexity: $O(n)$**"
   ]
  },
  {
   "cell_type": "markdown",
   "metadata": {},
   "source": [
    "### Level Order Traversal\n",
    "\n",
    "Level Order Traversal is defined as follows:\n",
    "\n",
    "- Visit the root\n",
    "- While traversing level $l$, keep all the elements at level $l+1$ in queue.\n",
    "- Go to the next level and visit all the nodes at that level.\n",
    "- Repeat this until all levels are completed"
   ]
  },
  {
   "cell_type": "code",
   "execution_count": 13,
   "metadata": {},
   "outputs": [],
   "source": [
    "import queue\n",
    "\n",
    "\n",
    "def level_order(root):\n",
    "    if root is None:\n",
    "        return\n",
    "\n",
    "    q = queue.Queue()\n",
    "    q.put(root)\n",
    "\n",
    "    while not q.empty():\n",
    "        current = q.get()\n",
    "        print(current.data, end=' ')\n",
    "\n",
    "        if current.left is not None:\n",
    "            q.put(current.left)\n",
    "        if current.right is not None:\n",
    "            q.put(current.right)"
   ]
  },
  {
   "cell_type": "code",
   "execution_count": 14,
   "metadata": {},
   "outputs": [
    {
     "name": "stdout",
     "output_type": "stream",
     "text": [
      "10 9 7 8 6 2 4 "
     ]
    }
   ],
   "source": [
    "level_order(BT.root)"
   ]
  },
  {
   "cell_type": "markdown",
   "metadata": {},
   "source": [
    "- **Time Complexity: $O(n)$**\n",
    "- **Space Complexity: $O(n)$**"
   ]
  },
  {
   "cell_type": "markdown",
   "metadata": {},
   "source": [
    "## Binary Tree Problems"
   ]
  },
  {
   "cell_type": "markdown",
   "metadata": {},
   "source": [
    "Here are 4 binary tree problems with their Python implementations. Reading about a data structure is a fine introduction, but at some point the only way to learn is to actually try to solve some problems starting with a blank sheet of paper. To get the most out of these problems, **you should at least attempt to solve them before looking at the solution**. Even if your solution is not quite right, you will be building up the right skills. With any pointer-based code, it's a good idea to make memory drawings of a a few simple cases to see how the algorithm should work. \n",
    "\n",
    "The following problems will use the following tree as an example:\n",
    "\n",
    "\n",
    "![](https://i.imgur.com/YDXCpCi.png)"
   ]
  },
  {
   "cell_type": "markdown",
   "metadata": {},
   "source": [
    "### Problem-1: Give algorithms for finding maximum and minimum element in a binary tree\n",
    "\n"
   ]
  },
  {
   "cell_type": "markdown",
   "metadata": {},
   "source": [
    "**Solution-1:** \n",
    "\n",
    "- Find the maximum/minimum element in left subtree\n",
    "- Find the maximum/minimum element in right subtree\n",
    "- Compare them with the root data and select the one which is giving the maximum/minimum value."
   ]
  },
  {
   "cell_type": "code",
   "execution_count": 15,
   "metadata": {},
   "outputs": [],
   "source": [
    "def find_maximum(root):\n",
    "    \"\"\"finds and returns maximum element in a binary tree\"\"\"\n",
    "    maximum = float(\"-infinity\")\n",
    "    if root is None:\n",
    "        return maximum\n",
    "\n",
    "    res = root.data\n",
    "    lres = find_maximum(root.left)\n",
    "    rres = find_maximum(root.right)\n",
    "    return max(max(lres, rres), res)"
   ]
  },
  {
   "cell_type": "code",
   "execution_count": 16,
   "metadata": {},
   "outputs": [
    {
     "name": "stdout",
     "output_type": "stream",
     "text": [
      "10\n"
     ]
    }
   ],
   "source": [
    "print(find_maximum(BT.root))"
   ]
  },
  {
   "cell_type": "markdown",
   "metadata": {},
   "source": [
    "- **Time Complexity: $O(n)$**\n",
    "- **Space Complexity: $O(n)$**"
   ]
  },
  {
   "cell_type": "code",
   "execution_count": 17,
   "metadata": {},
   "outputs": [],
   "source": [
    "def find_minimum(root):\n",
    "    \"\"\"finds and returns minimum element in a binary tree\"\"\"\n",
    "    #global minimum\n",
    "    minimum = float(\"infinity\")\n",
    "    if root is None:\n",
    "        return minimum\n",
    "        \n",
    "    res = root.data    \n",
    "    lres = find_minimum(root.left)\n",
    "    rres = find_minimum(root.right)\n",
    "    \n",
    "    return min(min(lres, rres), res)"
   ]
  },
  {
   "cell_type": "code",
   "execution_count": 18,
   "metadata": {},
   "outputs": [
    {
     "data": {
      "text/plain": [
       "2"
      ]
     },
     "execution_count": 18,
     "metadata": {},
     "output_type": "execute_result"
    }
   ],
   "source": [
    "find_minimum(BT.root)"
   ]
  },
  {
   "cell_type": "markdown",
   "metadata": {},
   "source": [
    "- **Time Complexity: $O(n)$**\n",
    "- **Space Complexity: $O(n)$**"
   ]
  },
  {
   "cell_type": "markdown",
   "metadata": {},
   "source": [
    "**Solution-2:**\n",
    "\n",
    "- Using level order traversal: observe the current node's data while removing the element from the queue."
   ]
  },
  {
   "cell_type": "code",
   "execution_count": 19,
   "metadata": {},
   "outputs": [],
   "source": [
    "import queue\n",
    "def find_max_level_order(root):\n",
    "    if root is None:\n",
    "        return \n",
    "    \n",
    "    q = queue.Queue()\n",
    "    q.put(root)\n",
    "    maximum = float(\"-infinity\")\n",
    "    while not q.empty():\n",
    "        current = q.get()\n",
    "        maximum = max(maximum, current.data)\n",
    "        \n",
    "        if current.left is not None:\n",
    "            q.put(current.left) \n",
    "        if current.right is not None:\n",
    "            q.put(current.right)\n",
    "            \n",
    "    return maximum"
   ]
  },
  {
   "cell_type": "code",
   "execution_count": 20,
   "metadata": {},
   "outputs": [
    {
     "data": {
      "text/plain": [
       "10"
      ]
     },
     "execution_count": 20,
     "metadata": {},
     "output_type": "execute_result"
    }
   ],
   "source": [
    "find_max_level_order(BT.root)"
   ]
  },
  {
   "cell_type": "markdown",
   "metadata": {},
   "source": [
    "- **Time Complexity: $O(n)$**\n",
    "- **Space Complexity: $O(n)$**"
   ]
  },
  {
   "cell_type": "markdown",
   "metadata": {},
   "source": [
    "### Problem-2: Searching an element in a binary Tree"
   ]
  },
  {
   "cell_type": "markdown",
   "metadata": {},
   "source": [
    "**Solution-1:**\n",
    "    \n",
    "- Return 1 if a node with data is found in the tree.\n",
    "- Recurse down the tree, choose left or right by comparing data with each node's data\n",
    "- Return -1 if not found"
   ]
  },
  {
   "cell_type": "code",
   "execution_count": 21,
   "metadata": {},
   "outputs": [],
   "source": [
    "def find_element(root, data):\n",
    "    if root is None:\n",
    "        return -1\n",
    "    \n",
    "    if root.data == data:\n",
    "        return 1\n",
    "    \n",
    "    else:\n",
    "        \n",
    "        temp = find_element(root.left, data)\n",
    "        if temp == 1: # if the element is found\n",
    "            return temp \n",
    "        else:  # Search in the right subtree \n",
    "            return find_element(root.right, data)"
   ]
  },
  {
   "cell_type": "code",
   "execution_count": 22,
   "metadata": {},
   "outputs": [
    {
     "data": {
      "text/plain": [
       "-1"
      ]
     },
     "execution_count": 22,
     "metadata": {},
     "output_type": "execute_result"
    }
   ],
   "source": [
    "find_element(BT.root, 14)"
   ]
  },
  {
   "cell_type": "code",
   "execution_count": 23,
   "metadata": {},
   "outputs": [
    {
     "data": {
      "text/plain": [
       "1"
      ]
     },
     "execution_count": 23,
     "metadata": {},
     "output_type": "execute_result"
    }
   ],
   "source": [
    "find_element(BT.root, 2)"
   ]
  },
  {
   "cell_type": "markdown",
   "metadata": {},
   "source": [
    "**Solution-2:**\n",
    " \n",
    "- Use level order traversal for solving this problem.\n",
    "- The only change required in level order traversal is, checking whether the current node data is equal to the element we are looking for."
   ]
  },
  {
   "cell_type": "code",
   "execution_count": 24,
   "metadata": {},
   "outputs": [],
   "source": [
    "def find_element_level_order(root, data):\n",
    "    \"\"\"Function that search for an element in a given binary tree.\n",
    "    Returns 1 if the element is found, and -1 if not found.\"\"\"\n",
    "    if root is None:\n",
    "        return\n",
    "\n",
    "    q = queue.Queue()\n",
    "    q.put(root)\n",
    "\n",
    "    while not q.empty():\n",
    "        current = q.get()\n",
    "\n",
    "        if current.data == data:\n",
    "            return 1\n",
    "        else:\n",
    "            if current.left is not None:\n",
    "                q.put(current.left)\n",
    "\n",
    "            if current.right is not None:\n",
    "                q.put(current.right)\n",
    "\n",
    "    return -1  # if not found"
   ]
  },
  {
   "cell_type": "code",
   "execution_count": 25,
   "metadata": {},
   "outputs": [
    {
     "data": {
      "text/plain": [
       "-1"
      ]
     },
     "execution_count": 25,
     "metadata": {},
     "output_type": "execute_result"
    }
   ],
   "source": [
    "find_element_level_order(BT.root, 14)"
   ]
  },
  {
   "cell_type": "code",
   "execution_count": 26,
   "metadata": {},
   "outputs": [
    {
     "data": {
      "text/plain": [
       "1"
      ]
     },
     "execution_count": 26,
     "metadata": {},
     "output_type": "execute_result"
    }
   ],
   "source": [
    "find_element_level_order(BT.root, 2)"
   ]
  },
  {
   "cell_type": "markdown",
   "metadata": {},
   "source": [
    "- **Time Complexity: $O(n)$**\n",
    "- **Space Complexity: $O(n)$**"
   ]
  },
  {
   "cell_type": "markdown",
   "metadata": {},
   "source": [
    "### Problem-3: finding the size of a binary tree"
   ]
  },
  {
   "cell_type": "markdown",
   "metadata": {},
   "source": [
    "**Solution-1:**\n",
    "\n",
    "- Calculate the size of left and right subtrees recursively\n",
    "- Add 1 (current node) and return to its parent"
   ]
  },
  {
   "cell_type": "code",
   "execution_count": 27,
   "metadata": {},
   "outputs": [],
   "source": [
    "def find_size(root):\n",
    "    \"\"\"Function to find the size of a binary tree \"\"\"\n",
    "    if root is None:\n",
    "        return 0 \n",
    "    \n",
    "    return find_size(root.left) + find_size(root.right) + 1"
   ]
  },
  {
   "cell_type": "code",
   "execution_count": 28,
   "metadata": {},
   "outputs": [
    {
     "data": {
      "text/plain": [
       "7"
      ]
     },
     "execution_count": 28,
     "metadata": {},
     "output_type": "execute_result"
    }
   ],
   "source": [
    "find_size(BT.root)"
   ]
  },
  {
   "cell_type": "markdown",
   "metadata": {},
   "source": [
    "**Solution-2:**\n",
    "\n",
    "- Use level order traversal"
   ]
  },
  {
   "cell_type": "code",
   "execution_count": 29,
   "metadata": {},
   "outputs": [],
   "source": [
    "def find_size_using_level_order(root):\n",
    "    if root is None:\n",
    "        return 0\n",
    "    \n",
    "    q = queue.Queue()\n",
    "    q.put(root)\n",
    "    counter = 0\n",
    "    while not q.empty():\n",
    "        current = q.get()\n",
    "        counter += 1\n",
    "        if current.left is not None:\n",
    "            q.put(current.left)\n",
    "            \n",
    "        if current.right is not None:\n",
    "            q.put(current.right)\n",
    "            \n",
    "    return counter"
   ]
  },
  {
   "cell_type": "code",
   "execution_count": 30,
   "metadata": {},
   "outputs": [
    {
     "data": {
      "text/plain": [
       "7"
      ]
     },
     "execution_count": 30,
     "metadata": {},
     "output_type": "execute_result"
    }
   ],
   "source": [
    "find_size_using_level_order(BT.root)"
   ]
  },
  {
   "cell_type": "markdown",
   "metadata": {},
   "source": [
    "- **Time Complexity: $O(n)$**\n",
    "- **Space Complexity: $O(n)$**"
   ]
  },
  {
   "cell_type": "markdown",
   "metadata": {},
   "source": [
    "### Problem-4: Print the level order data in reverse order"
   ]
  },
  {
   "cell_type": "markdown",
   "metadata": {},
   "source": [
    "**Solution:**\n",
    "\n",
    "- Use a stack to simulate Last In First Out (LIFO) in addition to the queue for level order traversal"
   ]
  },
  {
   "cell_type": "code",
   "execution_count": 31,
   "metadata": {},
   "outputs": [],
   "source": [
    "def reverse_level_order_traversal(root):\n",
    "    \"\"\"Function for printing the level order data in reverse order\"\"\"\n",
    "    if root is None:\n",
    "        return\n",
    "\n",
    "    q = queue.Queue()\n",
    "    stack = []\n",
    "    q.put(root)\n",
    "\n",
    "    while not q.empty():\n",
    "        current = q.get()\n",
    "        stack.append(current)\n",
    "        if current.left is not None:\n",
    "            q.put(current.left)\n",
    "\n",
    "        if current.right is not None:\n",
    "            q.put(current.right)\n",
    "\n",
    "    while stack:\n",
    "        print(stack.pop().data, end=' ')"
   ]
  },
  {
   "cell_type": "code",
   "execution_count": 32,
   "metadata": {},
   "outputs": [
    {
     "name": "stdout",
     "output_type": "stream",
     "text": [
      "10 9 7 8 6 2 4 "
     ]
    }
   ],
   "source": [
    "level_order(BT.root)"
   ]
  },
  {
   "cell_type": "code",
   "execution_count": 33,
   "metadata": {},
   "outputs": [
    {
     "name": "stdout",
     "output_type": "stream",
     "text": [
      "4 2 6 8 7 9 10 "
     ]
    }
   ],
   "source": [
    "reverse_level_order_traversal(BT.root)"
   ]
  },
  {
   "cell_type": "markdown",
   "metadata": {},
   "source": [
    "## References\n",
    "\n",
    "- http://cslibrary.stanford.edu/110/BinaryTrees.html"
   ]
  }
 ],
 "metadata": {
  "kernelspec": {
   "display_name": "Python 3",
   "language": "python",
   "name": "python3"
  },
  "language_info": {
   "codemirror_mode": {
    "name": "ipython",
    "version": 3
   },
   "file_extension": ".py",
   "mimetype": "text/x-python",
   "name": "python",
   "nbconvert_exporter": "python",
   "pygments_lexer": "ipython3",
   "version": "3.6.4"
  },
  "toc": {
   "nav_menu": {},
   "number_sections": true,
   "sideBar": true,
   "skip_h1_title": false,
   "title_cell": "Table of Contents",
   "title_sidebar": "Contents",
   "toc_cell": true,
   "toc_position": {},
   "toc_section_display": true,
   "toc_window_display": false
  }
 },
 "nbformat": 4,
 "nbformat_minor": 2
}
