{
 "cells": [
  {
   "cell_type": "code",
   "execution_count": 1,
   "metadata": {},
   "outputs": [],
   "source": [
    "import ipywidgets\n",
    "import numpy as np\n",
    "import proplot as plt\n",
    "import scipy.stats"
   ]
  },
  {
   "cell_type": "code",
   "execution_count": 2,
   "metadata": {},
   "outputs": [],
   "source": [
    "a = np.arange(16)\n",
    "colors = [\"#348ABD\", \"#A60628\"]"
   ]
  },
  {
   "cell_type": "code",
   "execution_count": 3,
   "metadata": {},
   "outputs": [],
   "source": [
    "def poisson_dist(λ=1.5):\n",
    "    fig, ax = plt.subplots(aspect=(3.5, 2), width=6)\n",
    "    ax.bar(\n",
    "        a,\n",
    "        scipy.stats.poisson.pmf(a, λ),\n",
    "        color=colors[0],\n",
    "        alpha=0.60,\n",
    "        edgecolor=colors[0],\n",
    "        lw=\"3\",\n",
    "        label=fr\"$\\lambda ={λ}\",\n",
    "    )\n",
    "    ax.format(\n",
    "        xticks=a,\n",
    "        ylabel=\"Probability of $k$\",\n",
    "        xlabel=\"$k$\",\n",
    "        title=\"Probability mass function of a Poisson random variable\",\n",
    "    )\n",
    "    plt.close(fig)\n",
    "    return fig"
   ]
  },
  {
   "cell_type": "code",
   "execution_count": 4,
   "metadata": {},
   "outputs": [
    {
     "data": {
      "application/vnd.jupyter.widget-view+json": {
       "model_id": "5065558a0b5f4e82a19fa8b6c041e6fd",
       "version_major": 2,
       "version_minor": 0
      },
      "text/plain": [
       "interactive(children=(FloatSlider(value=1.5, description='λ', max=20.0, min=1.0, step=1.0), Output()), _dom_cl…"
      ]
     },
     "metadata": {},
     "output_type": "display_data"
    }
   ],
   "source": [
    "ipywidgets.interact(poisson_dist, λ=ipywidgets.FloatSlider(min=1, max=20, value=1.5, step=1))"
   ]
  },
  {
   "cell_type": "code",
   "execution_count": 5,
   "metadata": {},
   "outputs": [],
   "source": [
    "a = np.linspace(0, 4, 100)\n",
    "\n",
    "\n",
    "def exponential_dist(λ=0.5):\n",
    "    exp = scipy.stats.expon.pdf(a, scale=1.0 / λ)\n",
    "    fig, ax = plt.subplots(aspect=(3.5, 2), width=6)\n",
    "    ax.plot(a, exp, color=colors[0], label=fr\"$\\lambda ={λ}\", lw=3)\n",
    "    ax.fill_between(a, exp, color=colors[0], alpha=0.33)\n",
    "    ax.format(\n",
    "        ylabel=\"Probability density function at of $z$\",\n",
    "        xlabel=\"$z$\",\n",
    "        title=\"Probability density function of an exponential random variable\",\n",
    "        ylim=(0, 1.2),\n",
    "    )\n",
    "    plt.close(fig)\n",
    "    return fig"
   ]
  },
  {
   "cell_type": "code",
   "execution_count": 6,
   "metadata": {},
   "outputs": [
    {
     "data": {
      "application/vnd.jupyter.widget-view+json": {
       "model_id": "63237957561241fda8edec586f6b4b07",
       "version_major": 2,
       "version_minor": 0
      },
      "text/plain": [
       "interactive(children=(FloatSlider(value=0.5, description='λ', max=1.0, min=0.1), Output()), _dom_classes=('wid…"
      ]
     },
     "metadata": {},
     "output_type": "display_data"
    }
   ],
   "source": [
    "ipywidgets.interact(exponential_dist, λ=ipywidgets.FloatSlider(min=0.1, max=1, value=0.5))"
   ]
  },
  {
   "cell_type": "code",
   "execution_count": 7,
   "metadata": {},
   "outputs": [
    {
     "name": "stdout",
     "output_type": "stream",
     "text": [
      "Last updated: 2020-11-27\n",
      "\n",
      "Git hash: 0f38d2abc8e59398ce2708ab976146a134652ccf\n",
      "\n",
      "Git repo: git@github.com:andersy005/blog.git\n",
      "\n",
      "Git branch: main\n",
      "\n",
      "scipy     : 1.5.3\n",
      "ipywidgets: 7.5.1\n",
      "numpy     : 1.19.4\n",
      "proplot   : 0.6.4\n",
      "\n"
     ]
    }
   ],
   "source": [
    "%load_ext watermark\n",
    "%watermark -grb -du -iv"
   ]
  }
 ],
 "metadata": {
  "kernelspec": {
   "display_name": "Python 3",
   "language": "python",
   "name": "python3"
  },
  "language_info": {
   "codemirror_mode": {
    "name": "ipython",
    "version": 3
   },
   "file_extension": ".py",
   "mimetype": "text/x-python",
   "name": "python",
   "nbconvert_exporter": "python",
   "pygments_lexer": "ipython3",
   "version": "3.8.5"
  },
  "widgets": {
   "application/vnd.jupyter.widget-state+json": {
    "state": {},
    "version_major": 2,
    "version_minor": 0
   }
  }
 },
 "nbformat": 4,
 "nbformat_minor": 4
}
