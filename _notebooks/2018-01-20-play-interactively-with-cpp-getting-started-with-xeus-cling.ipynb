{
 "cells": [
  {
   "cell_type": "markdown",
   "metadata": {
    "toc": true
   },
   "source": [
    "# \"Play interactively with C++: Xeus-Cling\"\n",
    ">\n",
    "\n",
    "- keywords: xeus-cling, c++, programming, jupyter\n",
    "- toc: true \n",
    "- badges: false\n",
    "- comments: true\n",
    "- author: Anderson Banihirwe\n",
    "- categories: [blog, cpp]\n",
    "- image: https://github.com/QuantStack/xeus-cling/raw/master/docs/source/xeus-cling.svg?sanitize=true"
   ]
  },
  {
   "cell_type": "markdown",
   "metadata": {},
   "source": [
    "*This is the 1st installment of a new series called* **Play interactively with C++**. Every week or so, I’ll be summarizing and exploring **Standard C++ Programming** in Jupyter notebook using [xeus-cling](https://github.com/QuantStack/xeus-cling).\n",
    "\n",
    "The source code (in notebook format) for this series can be found [here](http://nbviewer.jupyter.org/github/andersy005/interactive-cpp/tree/master/). "
   ]
  },
  {
   "cell_type": "markdown",
   "metadata": {},
   "source": [
    "xeus-cling is a Jupyter kernel for C++ based on the C++ interpreter [cling](https://github.com/root-project/cling) and the native implementation of the Jupyter protocol [xeus](https://github.com/QuantStack/xeus).\n",
    "\n",
    "<!-- PELICAN_END_SUMMARY -->"
   ]
  },
  {
   "cell_type": "markdown",
   "metadata": {},
   "source": [
    "In this installment, I will go over how to get started with playing with C++ Programming interactively. \n",
    "\n",
    "I am going to show you how to setup your environment. This blog post makes the following assumptions:\n",
    "\n",
    "1. The reader has some experience with Jupyter notebooks.\n",
    "\n",
    "\n",
    "2. Familiarity with conda.\n",
    " \n",
    "Note: Credit goes to [Uwe for his excellent blog post on how to setup C++ environment for Apache Arrow](https://uwekorn.com/2017/12/17/play-interactively-with-arrow-cpp-in-xeus-cling.html)\n",
    "\n",
    "# Getting Started\n",
    "\n",
    "\n",
    "To quote xeus-cling project:\n",
    ">It is preferable to install xeus-cling in a fresh conda environment. It is also needed to use a miniconda installation because with anaconda you can have a conflict with the zeromq library which is already installed with anaconda.\n",
    "\n",
    "As a start, we create a conda environment with all non-C++ dependencies and also install Jupyter Lab from conda-forge.\n",
    "\n",
    "```bash\n",
    "# Create a new conda environment\n",
    "conda create -n xeus python=3.6 jupyterlab -c conda-forge\n",
    "source activate xeus\n",
    "```\n",
    "\n",
    "Finally, let's install the actual interactive environment. For the C++ support, we install the interactive C++ compiler cling and the C++ kernel for Jupyter Notebook xeus-cling from the QuantStack channel.\n",
    "\n",
    "```bash\n",
    "conda install xeus-cling -c QuantStack -c conda-forge\n",
    "```\n",
    "\n",
    "After starting Jupyter Lab with jupyter lab, you should now see two additional kernels: xeus C++11 and xeus C++14. You can use either of them to use write interactive C++ programs.\n",
    "\n",
    "![jupyter-kernels](https://i.imgur.com/MoUPWd7.png)\n",
    "\n",
    "Now you are ready to start playing with C++ interactively.\n",
    "\n",
    "**Thanks for reading!**"
   ]
  }
 ],
 "metadata": {
  "kernelspec": {
   "display_name": "Python 3",
   "language": "python",
   "name": "python3"
  },
  "language_info": {
   "codemirror_mode": {
    "name": "ipython",
    "version": 3
   },
   "file_extension": ".py",
   "mimetype": "text/x-python",
   "name": "python",
   "nbconvert_exporter": "python",
   "pygments_lexer": "ipython3",
   "version": "3.7.6"
  },
  "toc": {
   "base_numbering": 1,
   "nav_menu": {},
   "number_sections": true,
   "sideBar": true,
   "skip_h1_title": false,
   "title_cell": "Table of Contents",
   "title_sidebar": "Contents",
   "toc_cell": true,
   "toc_position": {},
   "toc_section_display": "block",
   "toc_window_display": true
  },
  "widgets": {
   "application/vnd.jupyter.widget-state+json": {
    "state": {},
    "version_major": 2,
    "version_minor": 0
   }
  }
 },
 "nbformat": 4,
 "nbformat_minor": 4
}
