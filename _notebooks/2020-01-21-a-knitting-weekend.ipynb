{
 "cells": [
  {
   "cell_type": "markdown",
   "metadata": {},
   "source": [
    "# A Knitting Weekend\n",
    "> Sometimes a quiet weekend is an absolute gift!\n",
    "\n",
    "- keywords: knitting, python, vscode, dash\n",
    "- toc: true \n",
    "- badges: false\n",
    "- comments: true\n",
    "- author: Anderson Banihirwe\n",
    "- categories: [knitting]\n",
    "- image: https://upload.wikimedia.org/wikipedia/commons/b/bb/Knitting_plaited_stitches_fabric.png"
   ]
  },
  {
   "cell_type": "markdown",
   "metadata": {},
   "source": [
    "For the last few months, I've become a huge fan of the **quiet weekend**, *the weekend when no plan is the plan, and you are in no hurry at all.* I woke up on Saturday morning, and I decided that this weekend was going to be a quiet one.\n",
    "After watching a late morning football game from the English Premier League -- yup, I refuse to call it soccer 😀 -- I decided to write some code-nothing big, just a few lines of codes to improve my experience with Dash, a tool that I've been using for a few months. [Dash](https://kapeli.com/dash) is a MacOS application that offers offline documentation for hundreds of programming languages, fraweworks and libraries. Dash is awesome for offline programming when using spotty WiFi or on long-haul flights. While it is **free as in beer**, it's one of the programs that are worth paying for.\n",
    "\n",
    "## The Problem\n",
    "\n",
    "I've been using Dash for quite some time and have been really satisfied with the preset selection of documentation sets. At some point, I started running into scenarios when I was using frameworks/libraries whose documentations aren't available for Dash. So, my objective was to generate documentation sets for these libraries myself.\n",
    "\n",
    "## The Solution: Doc2dash and Sphinx To The Rescue\n",
    "\n",
    "[doc2dash](https://doc2dash.readthedocs.io/en/stable/) is a great tool for converting HTML documentation to Dash's format. doc2dash takes the output of Sphinx documentation and converts it to a Dash documentation package.\n",
    "\n",
    "### Show Me The Code!\n",
    "\n",
    "In Just a few steps, I was able to build a docset for Zarr using dash2doc:\n",
    "\n",
    "- Create new conda environment and install dependencies\n",
    "\n",
    "```bash\n",
    "$ conda create -n dash-docs -c conda-forge \\\n",
    "  doc2dash sphinx-rtd-theme numpydoc sphinx-issues\n",
    "$ conda activate dash-docs\n",
    "```\n",
    "\n",
    "- Pull down the project form GitHub and build the documentation\n",
    "\n",
    "```bash\n",
    "$ git clone https://github.com/zarr-developers/zarr-python.git\n",
    "$ cd zarr-python\n",
    "$ python -m pip install -e .\n",
    "$ cd docs\n",
    "$ make html\n",
    "```\n",
    "\n",
    "- Finally, run doc2dash with a few commands:\n",
    "\n",
    "```bash\n",
    "$ doc2dash --name zarr --index-page index.html --enable-js \\\n",
    "  --add-to-dash _build/html\n",
    "```\n",
    "\n",
    "And with that I had a shiny new Zarr docset in Dash:\n",
    "\n",
    "![](https://raw.githubusercontent.com/andersy005/dash-docsets/master/images/navigate.png)\n",
    "\n",
    "Once I was confident that I understood how to do this for one project, I decided to automate this process for a bunch of other projects. By dinner time (on Saturday) I felt like I was on the right track. After a few more hours on Sunday and Monday, I had a [GitHub repository](https://github.com/andersy005/dash-docsets) with continuous integration via CircleCI up and running, and had a dozen docsets generated:\n",
    "\n",
    "![](https://i.imgur.com/uGmuljA.png)\n",
    "\n",
    "![](https://i.imgur.com/p2W4YUS.png)\n",
    "\n",
    "\n",
    "\n",
    "## Was It Worth Fifteen or Twenty Hours of My Life?\n",
    "\n",
    "**I think so:** I took pleasure in doing something that I knew how to do and in creating something that would fit my needs perfectly.\n",
    "\n",
    "\n",
    "\n",
    "Sitting in a chair in front a computer screen while listening to MIX 100 Denver Radio station 😀, I was reminded of the intriguing parallels between [knitting and programming](https://www.nytimes.com/2019/05/17/science/math-physics-knitting-matsumoto.html):\n",
    "\n",
    "> \"Knitting is Coding, and Yarn is a Programmable material.\"\n",
    "\n",
    "*On quiet weekends like this I write code for fun, and Visual Studio Code & Python are my yarn and needles.*\n"
   ]
  },
  {
   "cell_type": "markdown",
   "metadata": {},
   "source": [
    "> Note: *Sometimes a quiet weekend is an absolute gift!*"
   ]
  }
 ],
 "metadata": {
  "kernelspec": {
   "display_name": "Python 3",
   "language": "python",
   "name": "python3"
  },
  "language_info": {
   "codemirror_mode": {
    "name": "ipython",
    "version": 3
   },
   "file_extension": ".py",
   "mimetype": "text/x-python",
   "name": "python",
   "nbconvert_exporter": "python",
   "pygments_lexer": "ipython3",
   "version": "3.7.6"
  },
  "widgets": {
   "application/vnd.jupyter.widget-state+json": {
    "state": {},
    "version_major": 2,
    "version_minor": 0
   }
  }
 },
 "nbformat": 4,
 "nbformat_minor": 4
}
